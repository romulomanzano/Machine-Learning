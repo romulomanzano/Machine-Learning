{
 "cells": [
  {
   "cell_type": "markdown",
   "metadata": {},
   "source": [
    "# Project 4: Predicting Bike Share Rides"
   ]
  },
  {
   "cell_type": "markdown",
   "metadata": {},
   "source": [
    "## Alexander, Michael; Birnbaum, Kevin; Manzano, Romulo"
   ]
  },
  {
   "cell_type": "code",
   "execution_count": 8,
   "metadata": {
    "collapsed": true
   },
   "outputs": [],
   "source": [
    "%matplotlib inline\n",
    "\n",
    "import pandas as pd\n",
    "import numpy as np\n",
    "from sklearn.ensemble import AdaBoostRegressor\n",
    "import datetime as dt\n",
    "import plotly.plotly as py\n",
    "import plotly.graph_objs as go\n",
    "from plotly.offline import plot as plot_off\n",
    "from sklearn.ensemble import RandomForestRegressor\n",
    "from sklearn.cross_validation import train_test_split\n"
   ]
  },
  {
   "cell_type": "markdown",
   "metadata": {},
   "source": [
    "To make sure we understand how our models are performing, we defined a function that helps us understand the squared log error, which is the same metric used by Kaggle on this competition"
   ]
  },
  {
   "cell_type": "code",
   "execution_count": 9,
   "metadata": {
    "collapsed": true
   },
   "outputs": [],
   "source": [
    "def rmsle(actual, predicted):\n",
    "    \"\"\"\n",
    "    Computes the squared log error.\n",
    "    This function computes the squared log error between two numbers,\n",
    "    or for element between a pair of lists or numpy arrays.\n",
    "    Parameters\n",
    "    ----------\n",
    "    actual : int, float, list of numbers, numpy array\n",
    "             The ground truth value\n",
    "    predicted : same type as actual\n",
    "                The predicted value\n",
    "    Returns\n",
    "    -------\n",
    "    score : double or list of doubles\n",
    "            The squared log error between actual and predicted\n",
    "    \"\"\"\n",
    "    sle = (np.power(np.log(np.array(actual) + 1) - np.log(np.array(predicted) + 1), 2))\n",
    "    msle = np.mean(sle)\n",
    "    rmsle = np.sqrt(msle)\n",
    "    return rmsle\n"
   ]
  },
  {
   "cell_type": "markdown",
   "metadata": {},
   "source": [
    "First we initialize a couple of variables to indicate where we'll be sourcing our data from"
   ]
  },
  {
   "cell_type": "code",
   "execution_count": 10,
   "metadata": {
    "collapsed": true
   },
   "outputs": [],
   "source": [
    "## Actual problem training starts here\n",
    "t_file = 'train.csv'\n",
    "test_file = 'test.csv'"
   ]
  },
  {
   "cell_type": "markdown",
   "metadata": {},
   "source": [
    "We proceed by loading the training data, and spliting the features and labels into two dataframes"
   ]
  },
  {
   "cell_type": "code",
   "execution_count": 102,
   "metadata": {
    "collapsed": true
   },
   "outputs": [],
   "source": [
    "raw_data = pd.read_csv(t_file)\n",
    "#specifying the target column names\n",
    "target_columns = ['count','registered','casual']\n",
    "regress = ['count']\n",
    "regress_registered = ['registered']\n",
    "regress_casual = ['casual']\n",
    "#labels for the single measure (count) for which score is calculated\n",
    "labels = raw_data[regress]\n",
    "all_target_cols = raw_data[target_columns]\n",
    "data = raw_data.drop(target_columns,axis=1)"
   ]
  },
  {
   "cell_type": "code",
   "execution_count": 51,
   "metadata": {
    "collapsed": true
   },
   "outputs": [],
   "source": [
    "#needed for future experimentation\n",
    "def keep_non_target_cols_only(d,cols = target_columns):\n",
    "    d = d.drop(cols,axis=1)\n",
    "    return d"
   ]
  },
  {
   "cell_type": "markdown",
   "metadata": {},
   "source": [
    "By exploring the volume of bike rentals by hour we infer that subcomponents of the date feature might be more relevant for the accurate modeling of the regressed variable. Here is a sample visualization of the total count for each season.  "
   ]
  },
  {
   "cell_type": "code",
   "execution_count": 87,
   "metadata": {
    "collapsed": false,
    "scrolled": false
   },
   "outputs": [
    {
     "data": {
      "text/html": [
       "<div class='tableauPlaceholder' id='viz1492964583978' style='position: relative'><noscript><a href='#'><img alt=' ' src='https:&#47;&#47;public.tableau.com&#47;static&#47;images&#47;Ka&#47;KagglebikeSharingDraft&#47;TimeandSeason&#47;1_rss.png' style='border: none' /></a></noscript><object class='tableauViz'  style='display:none;'><param name='host_url' value='https%3A%2F%2Fpublic.tableau.com%2F' /> <param name='site_root' value='' /><param name='name' value='KagglebikeSharingDraft&#47;TimeandSeason' /><param name='tabs' value='yes' /><param name='toolbar' value='yes' /><param name='static_image' value='https:&#47;&#47;public.tableau.com&#47;static&#47;images&#47;Ka&#47;KagglebikeSharingDraft&#47;TimeandSeason&#47;1.png' /> <param name='animate_transition' value='yes' /><param name='display_static_image' value='yes' /><param name='display_spinner' value='yes' /><param name='display_overlay' value='yes' /><param name='display_count' value='yes' /></object></div>                <script type='text/javascript'>                    var divElement = document.getElementById('viz1492964583978');                    var vizElement = divElement.getElementsByTagName('object')[0];                    vizElement.style.width='100%';vizElement.style.height=(divElement.offsetWidth*0.75)+'px';                    var scriptElement = document.createElement('script');                    scriptElement.src = 'https://public.tableau.com/javascripts/api/viz_v1.js';                    vizElement.parentNode.insertBefore(scriptElement, vizElement);                </script>"
      ],
      "text/plain": [
       "<IPython.core.display.HTML object>"
      ]
     },
     "metadata": {},
     "output_type": "execute_result"
    }
   ],
   "source": [
    "%%HTML\n",
    "<div class='tableauPlaceholder' id='viz1492964583978' style='position: relative'><noscript><a href='#'><img alt=' ' src='https:&#47;&#47;public.tableau.com&#47;static&#47;images&#47;Ka&#47;KagglebikeSharingDraft&#47;TimeandSeason&#47;1_rss.png' style='border: none' /></a></noscript><object class='tableauViz'  style='display:none;'><param name='host_url' value='https%3A%2F%2Fpublic.tableau.com%2F' /> <param name='site_root' value='' /><param name='name' value='KagglebikeSharingDraft&#47;TimeandSeason' /><param name='tabs' value='yes' /><param name='toolbar' value='yes' /><param name='static_image' value='https:&#47;&#47;public.tableau.com&#47;static&#47;images&#47;Ka&#47;KagglebikeSharingDraft&#47;TimeandSeason&#47;1.png' /> <param name='animate_transition' value='yes' /><param name='display_static_image' value='yes' /><param name='display_spinner' value='yes' /><param name='display_overlay' value='yes' /><param name='display_count' value='yes' /></object></div>                <script type='text/javascript'>                    var divElement = document.getElementById('viz1492964583978');                    var vizElement = divElement.getElementsByTagName('object')[0];                    vizElement.style.width='100%';vizElement.style.height=(divElement.offsetWidth*0.75)+'px';                    var scriptElement = document.createElement('script');                    scriptElement.src = 'https://public.tableau.com/javascripts/api/viz_v1.js';                    vizElement.parentNode.insertBefore(scriptElement, vizElement);                </script>"
   ]
  },
  {
   "cell_type": "code",
   "execution_count": 6,
   "metadata": {
    "collapsed": false
   },
   "outputs": [
    {
     "data": {
      "text/html": [
       "<div class='tableauPlaceholder' id='viz1492964676437' style='position: relative'><noscript><a href='#'><img alt=' ' src='https:&#47;&#47;public.tableau.com&#47;static&#47;images&#47;Ka&#47;KagglebikeSharingDraft&#47;WeatherConditions&#47;1_rss.png' style='border: none' /></a></noscript><object class='tableauViz'  style='display:none;'><param name='host_url' value='https%3A%2F%2Fpublic.tableau.com%2F' /> <param name='site_root' value='' /><param name='name' value='KagglebikeSharingDraft&#47;WeatherConditions' /><param name='tabs' value='yes' /><param name='toolbar' value='yes' /><param name='static_image' value='https:&#47;&#47;public.tableau.com&#47;static&#47;images&#47;Ka&#47;KagglebikeSharingDraft&#47;WeatherConditions&#47;1.png' /> <param name='animate_transition' value='yes' /><param name='display_static_image' value='yes' /><param name='display_spinner' value='yes' /><param name='display_overlay' value='yes' /><param name='display_count' value='yes' /></object></div>                <script type='text/javascript'>                    var divElement = document.getElementById('viz1492964676437');                    var vizElement = divElement.getElementsByTagName('object')[0];                    vizElement.style.width='100%';vizElement.style.height=(divElement.offsetWidth*0.75)+'px';                    var scriptElement = document.createElement('script');                    scriptElement.src = 'https://public.tableau.com/javascripts/api/viz_v1.js';                    vizElement.parentNode.insertBefore(scriptElement, vizElement);                </script>"
      ],
      "text/plain": [
       "<IPython.core.display.HTML object>"
      ]
     },
     "metadata": {},
     "output_type": "execute_result"
    }
   ],
   "source": [
    "%%HTML\n",
    "<div class='tableauPlaceholder' id='viz1492964676437' style='position: relative'><noscript><a href='#'><img alt=' ' src='https:&#47;&#47;public.tableau.com&#47;static&#47;images&#47;Ka&#47;KagglebikeSharingDraft&#47;WeatherConditions&#47;1_rss.png' style='border: none' /></a></noscript><object class='tableauViz'  style='display:none;'><param name='host_url' value='https%3A%2F%2Fpublic.tableau.com%2F' /> <param name='site_root' value='' /><param name='name' value='KagglebikeSharingDraft&#47;WeatherConditions' /><param name='tabs' value='yes' /><param name='toolbar' value='yes' /><param name='static_image' value='https:&#47;&#47;public.tableau.com&#47;static&#47;images&#47;Ka&#47;KagglebikeSharingDraft&#47;WeatherConditions&#47;1.png' /> <param name='animate_transition' value='yes' /><param name='display_static_image' value='yes' /><param name='display_spinner' value='yes' /><param name='display_overlay' value='yes' /><param name='display_count' value='yes' /></object></div>                <script type='text/javascript'>                    var divElement = document.getElementById('viz1492964676437');                    var vizElement = divElement.getElementsByTagName('object')[0];                    vizElement.style.width='100%';vizElement.style.height=(divElement.offsetWidth*0.75)+'px';                    var scriptElement = document.createElement('script');                    scriptElement.src = 'https://public.tableau.com/javascripts/api/viz_v1.js';                    vizElement.parentNode.insertBefore(scriptElement, vizElement);                </script>"
   ]
  },
  {
   "cell_type": "markdown",
   "metadata": {},
   "source": [
    "The below function helps us xtract the relevant features from the data field"
   ]
  },
  {
   "cell_type": "code",
   "execution_count": 20,
   "metadata": {
    "collapsed": true
   },
   "outputs": [],
   "source": [
    "def convert_time(x):\n",
    "    t = dt.datetime.strptime(x,\"%m/%d/%Y %H:%M\")\n",
    "    return pd.Series([t.weekday(),t.hour,t.year,t.month,t])"
   ]
  },
  {
   "cell_type": "code",
   "execution_count": 59,
   "metadata": {
    "collapsed": false
   },
   "outputs": [],
   "source": [
    "def feature_engineering_v1(z):\n",
    "    z[['weekday','hr','yr','month','time']]  = z.apply(lambda x: convert_time(x['datetime']),axis=1)\n",
    "    #don't need datetime anymore\n",
    "    z.drop('datetime',axis=1,inplace = True)    \n",
    "    #don't need at this point\n",
    "    z.drop('time',axis=1,inplace = True)    \n",
    "    return z"
   ]
  },
  {
   "cell_type": "code",
   "execution_count": 60,
   "metadata": {
    "collapsed": false
   },
   "outputs": [],
   "source": [
    "data = feature_engineering_v1(data)"
   ]
  },
  {
   "cell_type": "markdown",
   "metadata": {},
   "source": [
    "Some conversion is needed to ensure the data is usable by SK Learn"
   ]
  },
  {
   "cell_type": "markdown",
   "metadata": {},
   "source": [
    "Train/Test split"
   ]
  },
  {
   "cell_type": "code",
   "execution_count": 25,
   "metadata": {
    "collapsed": true
   },
   "outputs": [],
   "source": [
    "train_data,test_data = data[:6000],data[6000:]\n",
    "train_labels, test_labels = labels[:6000], labels[6000:]"
   ]
  },
  {
   "cell_type": "markdown",
   "metadata": {},
   "source": [
    "## Adaboost"
   ]
  },
  {
   "cell_type": "markdown",
   "metadata": {},
   "source": [
    "First we wanted to leverage the simplicity of decision trees to obtained a more optimal performance"
   ]
  },
  {
   "cell_type": "code",
   "execution_count": 27,
   "metadata": {
    "collapsed": false
   },
   "outputs": [
    {
     "name": "stderr",
     "output_type": "stream",
     "text": [
      "C:\\Users\\romulo\\AppData\\Roaming\\Python\\Python35\\site-packages\\sklearn\\utils\\validation.py:515: DataConversionWarning:\n",
      "\n",
      "A column-vector y was passed when a 1d array was expected. Please change the shape of y to (n_samples, ), for example using ravel().\n",
      "\n"
     ]
    }
   ],
   "source": [
    "#creating an adaBoostRegressor on this\n",
    "ada = AdaBoostRegressor()\n",
    "ada_1 = ada.fit(train_data,train_labels)"
   ]
  },
  {
   "cell_type": "markdown",
   "metadata": {},
   "source": [
    "Now we test its accuracy on the test data:"
   ]
  },
  {
   "cell_type": "code",
   "execution_count": 29,
   "metadata": {
    "collapsed": false
   },
   "outputs": [
    {
     "name": "stdout",
     "output_type": "stream",
     "text": [
      "RMSLE for adaboost 0.704346653717\n"
     ]
    }
   ],
   "source": [
    "ada_predict = ada_1.predict(test_data)\n",
    "test_labels_np = np.array(test_labels['count'])\n",
    "ada_predict_int = (np.array(ada_predict)).astype('int')\n",
    "ada_performance =  rmsle(test_labels_np,ada_predict_int)\n",
    "print('RMSLE for adaboost',ada_performance)"
   ]
  },
  {
   "cell_type": "markdown",
   "metadata": {},
   "source": [
    "Much better than the 1.26 from the original submission!"
   ]
  },
  {
   "cell_type": "markdown",
   "metadata": {},
   "source": [
    "## Random Forest"
   ]
  },
  {
   "cell_type": "markdown",
   "metadata": {},
   "source": [
    "We also wanted to test random forest as an alternative given it hedges against overfitting"
   ]
  },
  {
   "cell_type": "code",
   "execution_count": 30,
   "metadata": {
    "collapsed": false,
    "scrolled": true
   },
   "outputs": [
    {
     "name": "stderr",
     "output_type": "stream",
     "text": [
      "C:\\Users\\romulo\\Anaconda3\\lib\\site-packages\\ipykernel\\__main__.py:4: DataConversionWarning:\n",
      "\n",
      "A column-vector y was passed when a 1d array was expected. Please change the shape of y to (n_samples,), for example using ravel().\n",
      "\n"
     ]
    },
    {
     "name": "stdout",
     "output_type": "stream",
     "text": [
      "RMSLE with random forest: 0.459296236342\n"
     ]
    }
   ],
   "source": [
    "#Using 1k estimators\n",
    "forest = RandomForestRegressor(n_estimators = 1000, n_jobs = -1)\n",
    "\n",
    "forest_1 = forest.fit(train_data,train_labels)\n",
    "forest_1_predict = forest_1.predict(test_data)\n",
    "forest_1_predict_int = (np.array(forest_1_predict)).astype('int')\n",
    "forest_1_performance =  rmsle(test_labels_np,forest_1_predict_int)\n",
    "print('RMSLE with random forest:', forest_1_performance)"
   ]
  },
  {
   "cell_type": "markdown",
   "metadata": {},
   "source": [
    "As we can observe we obtained better results by using an approach less sensitive to noise in training data (overfitting)"
   ]
  },
  {
   "cell_type": "markdown",
   "metadata": {},
   "source": [
    "## Next Steps?"
   ]
  },
  {
   "cell_type": "markdown",
   "metadata": {},
   "source": [
    "- Binarizing variables such as Season, workingdays, weather and hours might yield improved results.\n",
    "- Creating an ensemble of predictors based on say (a) a model that predicts registered user count (b) a model that predicts casual user count and (c) a model that uses a & b and additional features as inputs to predict total count"
   ]
  },
  {
   "cell_type": "markdown",
   "metadata": {},
   "source": [
    "## Binarizing some of the variables"
   ]
  },
  {
   "cell_type": "markdown",
   "metadata": {},
   "source": [
    "Let's begin by defining some of the variables we might want to convert from numerical (could be interpreted as ordinal) to dummy/binary standalone features\n",
    "\n",
    "We'll begin with Season and Weather"
   ]
  },
  {
   "cell_type": "code",
   "execution_count": 31,
   "metadata": {
    "collapsed": true
   },
   "outputs": [],
   "source": [
    "binarize_cols = ['season','weather']"
   ]
  },
  {
   "cell_type": "code",
   "execution_count": 32,
   "metadata": {
    "collapsed": false
   },
   "outputs": [],
   "source": [
    "data_bin = pd.get_dummies(data,columns = binarize_cols )"
   ]
  },
  {
   "cell_type": "code",
   "execution_count": 33,
   "metadata": {
    "collapsed": false
   },
   "outputs": [],
   "source": [
    "train_data_bin,test_data_bin = data_bin[:6000],data_bin[6000:]\n",
    "train_labels_bin, test_labels_bin = labels[:6000], labels[6000:]"
   ]
  },
  {
   "cell_type": "code",
   "execution_count": 34,
   "metadata": {
    "collapsed": false,
    "scrolled": true
   },
   "outputs": [
    {
     "name": "stderr",
     "output_type": "stream",
     "text": [
      "C:\\Users\\romulo\\Anaconda3\\lib\\site-packages\\ipykernel\\__main__.py:4: DataConversionWarning:\n",
      "\n",
      "A column-vector y was passed when a 1d array was expected. Please change the shape of y to (n_samples,), for example using ravel().\n",
      "\n"
     ]
    },
    {
     "name": "stdout",
     "output_type": "stream",
     "text": [
      "RMSLE with random forest w dummies: 0.458992381572\n"
     ]
    }
   ],
   "source": [
    "#Using 1k estimators\n",
    "forest_bin = RandomForestRegressor(n_estimators = 1000, n_jobs = -1)\n",
    "\n",
    "forest_2 = forest_bin.fit(train_data_bin,train_labels_bin)\n",
    "forest_2_predict = forest_2.predict(test_data_bin)\n",
    "forest_2_predict_int = (np.array(forest_2_predict)).astype('int')\n",
    "forest_2_performance =  rmsle(test_labels_np,forest_2_predict_int)\n",
    "print('RMSLE with random forest w dummies:', forest_2_performance)"
   ]
  },
  {
   "cell_type": "markdown",
   "metadata": {},
   "source": [
    "De minimis effect!"
   ]
  },
  {
   "cell_type": "markdown",
   "metadata": {},
   "source": [
    "## Random Train and Test split"
   ]
  },
  {
   "cell_type": "code",
   "execution_count": 35,
   "metadata": {
    "collapsed": false
   },
   "outputs": [],
   "source": [
    "train_data_rm,test_data_rm,train_labels_rm ,test_labels_rm = train_test_split(data_bin, labels, test_size=0.20, random_state=42)"
   ]
  },
  {
   "cell_type": "code",
   "execution_count": 37,
   "metadata": {
    "collapsed": false
   },
   "outputs": [
    {
     "name": "stderr",
     "output_type": "stream",
     "text": [
      "C:\\Users\\romulo\\Anaconda3\\lib\\site-packages\\ipykernel\\__main__.py:5: DataConversionWarning:\n",
      "\n",
      "A column-vector y was passed when a 1d array was expected. Please change the shape of y to (n_samples,), for example using ravel().\n",
      "\n"
     ]
    },
    {
     "name": "stdout",
     "output_type": "stream",
     "text": [
      "RMSLE with random forest w dummies: 0.323865662722\n"
     ]
    }
   ],
   "source": [
    "test_labels_random_np = np.array(test_labels_rm['count'])\n",
    "\n",
    "forest_3_rm = RandomForestRegressor(n_estimators = 1000, n_jobs = -1)\n",
    "\n",
    "forest_3 = forest_3_rm.fit(train_data_rm,train_labels_rm)\n",
    "forest_3_predict = forest_3.predict(test_data_rm)\n",
    "forest_3_predict_int = (np.array(forest_3_predict)).astype('int')\n",
    "forest_3_performance =  rmsle(test_labels_random_np,forest_3_predict_int)\n",
    "print('RMSLE with random forest w dummies:', forest_3_performance)"
   ]
  },
  {
   "cell_type": "markdown",
   "metadata": {},
   "source": [
    "## Feature Engineering"
   ]
  },
  {
   "cell_type": "markdown",
   "metadata": {},
   "source": [
    "**Popularity**"
   ]
  },
  {
   "cell_type": "code",
   "execution_count": 4,
   "metadata": {
    "collapsed": false
   },
   "outputs": [
    {
     "data": {
      "text/html": [
       "<div class='tableauPlaceholder' id='viz1492964529434' style='position: relative'><noscript><a href='#'><img alt=' ' src='https:&#47;&#47;public.tableau.com&#47;static&#47;images&#47;Ka&#47;KagglebikeSharingDraft&#47;PopularityEffect&#47;1_rss.png' style='border: none' /></a></noscript><object class='tableauViz'  style='display:none;'><param name='host_url' value='https%3A%2F%2Fpublic.tableau.com%2F' /> <param name='site_root' value='' /><param name='name' value='KagglebikeSharingDraft&#47;PopularityEffect' /><param name='tabs' value='yes' /><param name='toolbar' value='yes' /><param name='static_image' value='https:&#47;&#47;public.tableau.com&#47;static&#47;images&#47;Ka&#47;KagglebikeSharingDraft&#47;PopularityEffect&#47;1.png' /> <param name='animate_transition' value='yes' /><param name='display_static_image' value='yes' /><param name='display_spinner' value='yes' /><param name='display_overlay' value='yes' /><param name='display_count' value='yes' /></object></div>                <script type='text/javascript'>                    var divElement = document.getElementById('viz1492964529434');                    var vizElement = divElement.getElementsByTagName('object')[0];                    vizElement.style.width='100%';vizElement.style.height=(divElement.offsetWidth*0.75)+'px';                    var scriptElement = document.createElement('script');                    scriptElement.src = 'https://public.tableau.com/javascripts/api/viz_v1.js';                    vizElement.parentNode.insertBefore(scriptElement, vizElement);                </script>"
      ],
      "text/plain": [
       "<IPython.core.display.HTML object>"
      ]
     },
     "metadata": {},
     "output_type": "execute_result"
    }
   ],
   "source": [
    "%%HTML\n",
    "<div class='tableauPlaceholder' id='viz1492964529434' style='position: relative'><noscript><a href='#'><img alt=' ' src='https:&#47;&#47;public.tableau.com&#47;static&#47;images&#47;Ka&#47;KagglebikeSharingDraft&#47;PopularityEffect&#47;1_rss.png' style='border: none' /></a></noscript><object class='tableauViz'  style='display:none;'><param name='host_url' value='https%3A%2F%2Fpublic.tableau.com%2F' /> <param name='site_root' value='' /><param name='name' value='KagglebikeSharingDraft&#47;PopularityEffect' /><param name='tabs' value='yes' /><param name='toolbar' value='yes' /><param name='static_image' value='https:&#47;&#47;public.tableau.com&#47;static&#47;images&#47;Ka&#47;KagglebikeSharingDraft&#47;PopularityEffect&#47;1.png' /> <param name='animate_transition' value='yes' /><param name='display_static_image' value='yes' /><param name='display_spinner' value='yes' /><param name='display_overlay' value='yes' /><param name='display_count' value='yes' /></object></div>                <script type='text/javascript'>                    var divElement = document.getElementById('viz1492964529434');                    var vizElement = divElement.getElementsByTagName('object')[0];                    vizElement.style.width='100%';vizElement.style.height=(divElement.offsetWidth*0.75)+'px';                    var scriptElement = document.createElement('script');                    scriptElement.src = 'https://public.tableau.com/javascripts/api/viz_v1.js';                    vizElement.parentNode.insertBefore(scriptElement, vizElement);                </script>"
   ]
  },
  {
   "cell_type": "markdown",
   "metadata": {},
   "source": [
    "**Time on market** will serve as an proxy for popularity. We will use the number of weeks since first measure is available (we'll call that launch date!)"
   ]
  },
  {
   "cell_type": "code",
   "execution_count": 40,
   "metadata": {
    "collapsed": true
   },
   "outputs": [],
   "source": [
    "def time_on_market(x,begining):\n",
    "    return (x-begining).days // 7"
   ]
  },
  {
   "cell_type": "code",
   "execution_count": 43,
   "metadata": {
    "collapsed": true
   },
   "outputs": [],
   "source": [
    "def get_earliest_date(z):\n",
    "    z[['weekday','hr','yr','month','time']]  = z.apply(lambda x: convert_time(x['datetime']),axis=1)\n",
    "    #don't need datetime anymore\n",
    "    return min(z['time'])    "
   ]
  },
  {
   "cell_type": "code",
   "execution_count": 76,
   "metadata": {
    "collapsed": true
   },
   "outputs": [],
   "source": [
    "def feature_engineering_v2(z,market_launch):\n",
    "    z[['weekday','hr','yr','month','time']]  = z.apply(lambda x: convert_time(x['datetime']),axis=1)\n",
    "    #don't need datetime anymore\n",
    "    z.drop('datetime',axis=1,inplace = True)\n",
    "    #calculate market launch\n",
    "    z['time_on_market']  = z.apply(lambda x: time_on_market(x['time'],market_launch),axis=1)\n",
    "    z.drop('time',axis=1,inplace=True)\n",
    "    z = pd.get_dummies(z,columns = binarize_cols )\n",
    "    z.drop('yr',axis=1,inplace = True)\n",
    "    return z"
   ]
  },
  {
   "cell_type": "markdown",
   "metadata": {},
   "source": [
    "Defining baseline data again"
   ]
  },
  {
   "cell_type": "code",
   "execution_count": 77,
   "metadata": {
    "collapsed": true
   },
   "outputs": [],
   "source": [
    "data_2 = keep_non_target_cols_only(raw_data)"
   ]
  },
  {
   "cell_type": "code",
   "execution_count": 62,
   "metadata": {
    "collapsed": false
   },
   "outputs": [
    {
     "data": {
      "text/plain": [
       "Timestamp('2011-01-01 00:00:00')"
      ]
     },
     "execution_count": 62,
     "metadata": {},
     "output_type": "execute_result"
    }
   ],
   "source": [
    "market_launch = get_earliest_date(data_2)\n",
    "market_launch"
   ]
  },
  {
   "cell_type": "code",
   "execution_count": 78,
   "metadata": {
    "collapsed": false
   },
   "outputs": [],
   "source": [
    "data_2 = feature_engineering_v2(data_2,market_launch)"
   ]
  },
  {
   "cell_type": "code",
   "execution_count": 79,
   "metadata": {
    "collapsed": true
   },
   "outputs": [],
   "source": [
    "train_data_v2,test_data_v2,train_labels_v2 ,test_labels_v2 = train_test_split(data_2, labels, test_size=0.20, random_state=42)"
   ]
  },
  {
   "cell_type": "code",
   "execution_count": 80,
   "metadata": {
    "collapsed": false
   },
   "outputs": [
    {
     "name": "stderr",
     "output_type": "stream",
     "text": [
      "C:\\Users\\romulo\\Anaconda3\\lib\\site-packages\\ipykernel\\__main__.py:5: DataConversionWarning:\n",
      "\n",
      "A column-vector y was passed when a 1d array was expected. Please change the shape of y to (n_samples,), for example using ravel().\n",
      "\n"
     ]
    },
    {
     "name": "stdout",
     "output_type": "stream",
     "text": [
      "RMSLE with random forest w dummies & time on market: 0.320638578487\n"
     ]
    }
   ],
   "source": [
    "test_labels_v2_np = np.array(test_labels_v2['count'])\n",
    "\n",
    "forest_4_v2 = RandomForestRegressor(n_estimators = 1000, n_jobs = -1)\n",
    "\n",
    "forest_4 = forest_4_v2.fit(train_data_v2,train_labels_v2)\n",
    "forest_4_predict = forest_4.predict(test_data_v2)\n",
    "forest_4_predict_int = (np.array(forest_4_predict)).astype('int')\n",
    "forest_4_performance =  rmsle(test_labels_v2_np,forest_4_predict_int)\n",
    "print('RMSLE with random forest w dummies & time on market:', forest_4_performance)"
   ]
  },
  {
   "cell_type": "markdown",
   "metadata": {},
   "source": [
    "Minimal improvement"
   ]
  },
  {
   "cell_type": "markdown",
   "metadata": {},
   "source": [
    "## Rush Hours and Midnight!"
   ]
  },
  {
   "cell_type": "code",
   "execution_count": 81,
   "metadata": {
    "collapsed": true
   },
   "outputs": [],
   "source": [
    "def feature_engineering_v3(z,market_launch):\n",
    "    z = feature_engineering_v2(z,market_launch)\n",
    "    z['morning_rush'] = ((z['hr']>=7)  & (z['hr']<=9 ) & (z['workingday']==1 ) ) *1\n",
    "    z['evening_rush'] = ((z['hr']>=16)  & (z['hr']<=19 ) & (z['workingday']==1 )) *1\n",
    "    z['sleep_time'] = (((z['hr']>=22)  | (z['hr']<=5 )) & (z['workingday']==1 )) *1\n",
    "    z['weekend_rush'] = ((z['hr']>=11)  | (z['hr']<=18 ) & (z['weekday']>=5 )) *1\n",
    "    return z"
   ]
  },
  {
   "cell_type": "code",
   "execution_count": 82,
   "metadata": {
    "collapsed": true
   },
   "outputs": [],
   "source": [
    "data_3 = keep_non_target_cols_only(raw_data)\n",
    "data_3 = feature_engineering_v3(data_3,market_launch)\n",
    "train_data_v3,test_data_v3,train_labels_v3 ,test_labels_v3 = train_test_split(data_3, labels, test_size=0.20, random_state=42)"
   ]
  },
  {
   "cell_type": "code",
   "execution_count": 83,
   "metadata": {
    "collapsed": false
   },
   "outputs": [
    {
     "name": "stderr",
     "output_type": "stream",
     "text": [
      "C:\\Users\\romulo\\Anaconda3\\lib\\site-packages\\ipykernel\\__main__.py:5: DataConversionWarning:\n",
      "\n",
      "A column-vector y was passed when a 1d array was expected. Please change the shape of y to (n_samples,), for example using ravel().\n",
      "\n"
     ]
    },
    {
     "name": "stdout",
     "output_type": "stream",
     "text": [
      "RMSLE with random forest w dummies ,time on market and period ind: 0.313913282025\n"
     ]
    }
   ],
   "source": [
    "test_labels_v3_np = np.array(test_labels_v3['count'])\n",
    "\n",
    "forest_5_v3 = RandomForestRegressor(n_estimators = 1000, n_jobs = -1)\n",
    "\n",
    "forest_5 = forest_5_v3.fit(train_data_v3,train_labels_v3)\n",
    "forest_5_predict = forest_5.predict(test_data_v3)\n",
    "forest_5_predict_int = (np.array(forest_5_predict)).astype('int')\n",
    "forest_5_performance =  rmsle(test_labels_v3_np,forest_5_predict_int)\n",
    "print('RMSLE with random forest w dummies ,time on market and period ind:', forest_5_performance)"
   ]
  },
  {
   "cell_type": "markdown",
   "metadata": {},
   "source": [
    "## Two model approach - Independent models for Casual vs. Registered"
   ]
  },
  {
   "cell_type": "code",
   "execution_count": 103,
   "metadata": {
    "collapsed": false
   },
   "outputs": [],
   "source": [
    "data_4 = raw_data\n",
    "data_4 = feature_engineering_v3(data_4,market_launch)\n",
    "train_data_v4,test_data_v4,train_labels_v4 ,test_labels_v4 = train_test_split(data_4, labels, test_size=0.20, random_state=42)"
   ]
  },
  {
   "cell_type": "code",
   "execution_count": 104,
   "metadata": {
    "collapsed": false
   },
   "outputs": [],
   "source": [
    "test_labels_v4_np = np.array(test_labels_v4['count'])\n",
    "\n",
    "train_labels_v4_reg = train_data_v4[regress_registered]\n",
    "train_labels_v4_cas = train_data_v4[regress_casual]\n",
    "data_4 = keep_non_target_cols_only(data_4)\n",
    "train_data_v4 = keep_non_target_cols_only(train_data_v4)\n",
    "test_data_v4 = keep_non_target_cols_only(test_data_v4)"
   ]
  },
  {
   "cell_type": "markdown",
   "metadata": {},
   "source": [
    "**Registered users model**"
   ]
  },
  {
   "cell_type": "code",
   "execution_count": 105,
   "metadata": {
    "collapsed": false
   },
   "outputs": [
    {
     "name": "stderr",
     "output_type": "stream",
     "text": [
      "C:\\Users\\romulo\\Anaconda3\\lib\\site-packages\\ipykernel\\__main__.py:2: DataConversionWarning:\n",
      "\n",
      "A column-vector y was passed when a 1d array was expected. Please change the shape of y to (n_samples,), for example using ravel().\n",
      "\n"
     ]
    }
   ],
   "source": [
    "forest_reg = RandomForestRegressor(n_estimators = 1000,n_jobs = -1)\n",
    "forest_6_reg = forest_reg.fit(train_data_v4,train_labels_v4_reg)"
   ]
  },
  {
   "cell_type": "markdown",
   "metadata": {},
   "source": [
    "**Casual Users**"
   ]
  },
  {
   "cell_type": "code",
   "execution_count": 106,
   "metadata": {
    "collapsed": false,
    "scrolled": true
   },
   "outputs": [
    {
     "name": "stderr",
     "output_type": "stream",
     "text": [
      "C:\\Users\\romulo\\Anaconda3\\lib\\site-packages\\ipykernel\\__main__.py:2: DataConversionWarning:\n",
      "\n",
      "A column-vector y was passed when a 1d array was expected. Please change the shape of y to (n_samples,), for example using ravel().\n",
      "\n"
     ]
    }
   ],
   "source": [
    "forest_cas = RandomForestRegressor(n_estimators = 1000,n_jobs = -1)\n",
    "forest_6_cas = forest_cas.fit(train_data_v4,train_labels_v4_cas)"
   ]
  },
  {
   "cell_type": "markdown",
   "metadata": {},
   "source": [
    "**Predicting total** by summing predictions of individual models"
   ]
  },
  {
   "cell_type": "code",
   "execution_count": 111,
   "metadata": {
    "collapsed": true
   },
   "outputs": [],
   "source": [
    "forest_6_predict_reg = forest_6_reg.predict(test_data_v4)\n",
    "forest_6_predict_cas = forest_6_cas.predict(test_data_v4)\n",
    "#Adding up\n",
    "forest_6_predict = forest_6_predict_reg + forest_6_predict_cas\n",
    "forest_6_predict_int  = (np.array(forest_6_predict)).astype('int')"
   ]
  },
  {
   "cell_type": "markdown",
   "metadata": {},
   "source": [
    "**Results:**"
   ]
  },
  {
   "cell_type": "code",
   "execution_count": 112,
   "metadata": {
    "collapsed": false
   },
   "outputs": [
    {
     "name": "stdout",
     "output_type": "stream",
     "text": [
      "RMSLE with random forest composite: 0.312292352006\n"
     ]
    }
   ],
   "source": [
    "forest_6_performance =  rmsle(test_labels_v4_np,forest_6_predict_int)\n",
    "print('RMSLE with random forest composite:', forest_6_performance)"
   ]
  },
  {
   "cell_type": "markdown",
   "metadata": {},
   "source": [
    "Minor improvement of roughly 0.01"
   ]
  }
 ],
 "metadata": {
  "kernelspec": {
   "display_name": "Python 3",
   "language": "python",
   "name": "python3"
  },
  "language_info": {
   "codemirror_mode": {
    "name": "ipython",
    "version": 3
   },
   "file_extension": ".py",
   "mimetype": "text/x-python",
   "name": "python",
   "nbconvert_exporter": "python",
   "pygments_lexer": "ipython3",
   "version": "3.5.1"
  }
 },
 "nbformat": 4,
 "nbformat_minor": 2
}
