{
 "cells": [
  {
   "cell_type": "code",
   "execution_count": 11,
   "metadata": {
    "collapsed": false
   },
   "outputs": [
    {
     "data": {
      "text/html": [
       "<button onclick=\"jQuery('.input_area').toggle(); jQuery('.prompt').toggle();\">Toggle code</button>"
      ]
     },
     "metadata": {},
     "output_type": "display_data"
    }
   ],
   "source": [
    "import IPython.core.display as di\n",
    "# This line will add a button to toggle visibility of code blocks, for use with the HTML export version\n",
    "di.display_html('''<button onclick=\"jQuery('.input_area').toggle(); jQuery('.prompt').toggle();\">Toggle code</button>''', raw=True)\n"
   ]
  },
  {
   "cell_type": "code",
   "execution_count": 3,
   "metadata": {
    "collapsed": true
   },
   "outputs": [],
   "source": [
    "import numpy as np\n",
    "\n",
    "class NaiveBayes:\n",
    "    # Initialize an instance of the class.\n",
    "    def __init__(self, alpha=0.0):\n",
    "        self.alpha = alpha     # additive (Laplace) smoothing parameter\n",
    "        self.priors = None     # estimated by fit()\n",
    "        self.probs = None      # estimated by fit()\n",
    "        self.num_labels = 0    # set by fit()\n",
    "        self.num_features = 0  # set by fit()\n",
    "        \n",
    "    def fit(self, train_data, train_labels):\n",
    "        # Store number of labels, number of features, and number training examples.\n",
    "        self.num_labels = len(np.unique(train_labels))\n",
    "        self.num_features = train_data.shape[1]\n",
    "        self.num_examples = train_data.shape[0]\n",
    "        \n",
    "        # Initialize an array of label counts. Each label gets a smoothed count of 2*alpha because\n",
    "        # each feature value (0 and 1) gets an extra count of alpha.\n",
    "        label_counts = np.ones(self.num_labels) * self.alpha * 2\n",
    "\n",
    "        # Initialize an array of (feature=1, label) counts to alpha.\n",
    "        feature0_and_label_counts = np.ones([self.num_features, self.num_labels]) * self.alpha\n",
    "    \n",
    "        # Count features with value == 1.\n",
    "        for i in range(self.num_examples):\n",
    "            label = train_labels[i]\n",
    "            label_counts[label] += 1\n",
    "            for feature_index, feature_value in enumerate(train_data[i]):\n",
    "                feature0_and_label_counts[feature_index][label] += (feature_value == 1)\n",
    "\n",
    "        # Normalize to get probabilities P(feature=1|label).\n",
    "        self.probs = feature0_and_label_counts / label_counts\n",
    "        \n",
    "        # Normalize label counts to get prior probabilities P(label).\n",
    "        self.priors = label_counts / label_counts.sum()\n",
    "\n",
    "    # Make predictions for each test example and return results.\n",
    "    def predict(self, test_data):\n",
    "        results = []\n",
    "        for item in test_data:\n",
    "            results.append(self._predict_item(item))\n",
    "        return np.array(results)\n",
    "    \n",
    "    # Private function for making a single prediction.\n",
    "    def _predict_item(self, item):\n",
    "        # Make a copy of the prior probabilities.\n",
    "        predictions = self.priors.copy()\n",
    "        \n",
    "        # Multiply by each conditional feature probability.\n",
    "        for (index, value) in enumerate(item):\n",
    "            feature_probs = self.probs[index]\n",
    "            if not value: feature_probs = 1 - feature_probs\n",
    "            predictions *= feature_probs\n",
    "\n",
    "        # Normalize and return the label that gives the largest probability.\n",
    "        predictions /= predictions.sum()\n",
    "        return predictions.argmax()"
   ]
  },
  {
   "cell_type": "code",
   "execution_count": 4,
   "metadata": {
    "collapsed": false
   },
   "outputs": [],
   "source": [
    "from sklearn.datasets import load_iris\n",
    "from sklearn.naive_bayes import BernoulliNB\n",
    "\n",
    "iris = load_iris()\n",
    "X,Y = iris.data,iris.target\n",
    "\n",
    "#rearranging\n",
    "np.random.seed(0)\n",
    "shuffle = np.random.permutation(np.arange(X.shape[0]))\n",
    "X,Y = X[shuffle], Y[shuffle]\n",
    "#spliting into training and test data\n",
    "train_data, train_labels = X[:100], Y[:100]\n",
    "test_data, test_labels = X[100:], Y[100:]\n",
    "\n",
    "def binarize_iris(data, threshold = [6.0,3.0,2.5,1.0]):\n",
    "    binarized = np.zeros(data.shape)\n",
    "    for feature in range(data.shape[1]):\n",
    "        binarized[:,feature] = data[:,feature] > threshold[feature]\n",
    "    return binarized\n",
    "\n",
    "binarized_train_data = binarize_iris(train_data)\n",
    "binarized_test_data = binarize_iris(test_data)"
   ]
  },
  {
   "cell_type": "code",
   "execution_count": 6,
   "metadata": {
    "collapsed": false
   },
   "outputs": [],
   "source": [
    "def perform_comparison(alpha):\n",
    "    nby = NaiveBayes(alpha=alpha)\n",
    "    nby.fit(binarized_train_data, train_labels)\n",
    "\n",
    "    # Compute accuracy on the test data.\n",
    "    preds = nby.predict(binarized_test_data)\n",
    "    correct, total = 0, 0\n",
    "    for pred, label in zip(preds, test_labels):\n",
    "        if pred == label: correct += 1\n",
    "        total += 1\n",
    "    print('With alpha = %.2f' %alpha)\n",
    "    print('[OUR implementation] total: %3d  correct: %3d  accuracy: %3.2f' %(total, correct, 1.0*correct/total))\n",
    "\n",
    "\n",
    "\n",
    "\n",
    "    # Compare to sklearn's implementation.\n",
    "    clf = BernoulliNB(alpha=alpha, fit_prior=False)\n",
    "    clf.fit(binarized_train_data, train_labels)\n",
    "    print('sklearn accuracy: %3.2f' %clf.score(binarized_test_data, test_labels))\n",
    "\n",
    "    print('\\nOur feature probabilities\\n', nby.probs)\n",
    "    print('\\nsklearn feature probabilities\\n', np.exp(clf.feature_log_prob_).T)\n",
    "    print('\\nOur prior probabilities\\n', nby.priors)\n",
    "    print('\\nsklearn prior probabilities\\n', np.exp(clf.class_log_prior_))"
   ]
  },
  {
   "cell_type": "code",
   "execution_count": 10,
   "metadata": {
    "collapsed": false
   },
   "outputs": [
    {
     "name": "stdout",
     "output_type": "stream",
     "text": [
      "With alpha = 20.00\n",
      "[OUR implementation] total:  50  correct:  41  accuracy: 0.82\n",
      "sklearn accuracy: 0.82\n",
      "\n",
      "Our feature probabilities\n",
      " [[ 0.28169014  0.45205479  0.64473684]\n",
      " [ 0.63380282  0.35616438  0.40789474]\n",
      " [ 0.28169014  0.7260274   0.73684211]\n",
      " [ 0.28169014  0.68493151  0.73684211]]\n",
      "\n",
      "sklearn feature probabilities\n",
      " [[ 0.28169014  0.45205479  0.64473684]\n",
      " [ 0.63380282  0.35616438  0.40789474]\n",
      " [ 0.28169014  0.7260274   0.73684211]\n",
      " [ 0.28169014  0.68493151  0.73684211]]\n",
      "\n",
      "Our prior probabilities\n",
      " [ 0.32272727  0.33181818  0.34545455]\n",
      "\n",
      "sklearn prior probabilities\n",
      " [ 0.33333333  0.33333333  0.33333333]\n"
     ]
    }
   ],
   "source": [
    "from ipywidgets import widgets\n",
    "from IPython.display import display\n",
    "from IPython.display import clear_output\n",
    "num = widgets.BoundedIntText(description = \"Laplace Alpha\")\n",
    "\n",
    "button = widgets.Button(description=\"Compare!\")\n",
    "display(num)\n",
    "display(button)\n",
    "\n",
    " \n",
    "def on_button_clicked(sender):\n",
    "    clear_output()\n",
    "    perform_comparison(num.value)\n",
    "\n",
    "button.on_click(on_button_clicked)"
   ]
  }
 ],
 "metadata": {
  "kernelspec": {
   "display_name": "Python 3",
   "language": "python",
   "name": "python3"
  },
  "language_info": {
   "codemirror_mode": {
    "name": "ipython",
    "version": 3
   },
   "file_extension": ".py",
   "mimetype": "text/x-python",
   "name": "python",
   "nbconvert_exporter": "python",
   "pygments_lexer": "ipython3",
   "version": "3.5.1"
  },
  "widgets": {
   "state": {
    "52e5043be4594274a413c0dc1e51b67e": {
     "views": [
      {
       "cell_index": 4
      }
     ]
    },
    "ab135c2e0f6b435daf5a93f3663ff70f": {
     "views": [
      {
       "cell_index": 4
      }
     ]
    },
    "ae69a5976407423e883547ef23eae68f": {
     "views": [
      {
       "cell_index": 4
      }
     ]
    },
    "e9f84529ecad4f9ab80a90a8e017e3fd": {
     "views": [
      {
       "cell_index": 4
      }
     ]
    }
   },
   "version": "1.2.0"
  }
 },
 "nbformat": 4,
 "nbformat_minor": 2
}
